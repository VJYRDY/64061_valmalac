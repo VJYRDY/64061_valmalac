{
  "cells": [
    {
      "cell_type": "markdown",
      "source": [
        "Vijay Kumar Reddy Almalachervu"
      ],
      "metadata": {
        "id": "TwX5FCttSse4"
      }
    },
    {
      "cell_type": "markdown",
      "metadata": {
        "id": "nx_rUhogNbXO"
      },
      "source": [
        "### The IMDB dataset"
      ]
    },
    {
      "cell_type": "markdown",
      "metadata": {
        "id": "gClSDcLiNbXO"
      },
      "source": [
        "**Loading the IMDB dataset**"
      ]
    },
    {
      "cell_type": "code",
      "execution_count": 2,
      "metadata": {
        "colab": {
          "base_uri": "https://localhost:8080/"
        },
        "id": "4h_4iiw1NbXP",
        "outputId": "6c563354-619b-405c-cece-42a49adc7278"
      },
      "outputs": [
        {
          "output_type": "stream",
          "name": "stdout",
          "text": [
            "Looking in indexes: https://pypi.org/simple, https://us-python.pkg.dev/colab-wheels/public/simple/\n",
            "Requirement already satisfied: tensorflow in /usr/local/lib/python3.7/dist-packages (2.8.2+zzzcolab20220929150707)\n",
            "Requirement already satisfied: numpy>=1.20 in /usr/local/lib/python3.7/dist-packages (from tensorflow) (1.21.6)\n",
            "Requirement already satisfied: wrapt>=1.11.0 in /usr/local/lib/python3.7/dist-packages (from tensorflow) (1.14.1)\n",
            "Requirement already satisfied: libclang>=9.0.1 in /usr/local/lib/python3.7/dist-packages (from tensorflow) (14.0.6)\n",
            "Requirement already satisfied: six>=1.12.0 in /usr/local/lib/python3.7/dist-packages (from tensorflow) (1.15.0)\n",
            "Requirement already satisfied: grpcio<2.0,>=1.24.3 in /usr/local/lib/python3.7/dist-packages (from tensorflow) (1.49.1)\n",
            "Requirement already satisfied: absl-py>=0.4.0 in /usr/local/lib/python3.7/dist-packages (from tensorflow) (1.2.0)\n",
            "Requirement already satisfied: tensorflow-estimator<2.9,>=2.8 in /usr/local/lib/python3.7/dist-packages (from tensorflow) (2.8.0)\n",
            "Requirement already satisfied: setuptools in /usr/local/lib/python3.7/dist-packages (from tensorflow) (57.4.0)\n",
            "Requirement already satisfied: typing-extensions>=3.6.6 in /usr/local/lib/python3.7/dist-packages (from tensorflow) (4.1.1)\n",
            "Requirement already satisfied: keras<2.9,>=2.8.0rc0 in /usr/local/lib/python3.7/dist-packages (from tensorflow) (2.8.0)\n",
            "Requirement already satisfied: flatbuffers>=1.12 in /usr/local/lib/python3.7/dist-packages (from tensorflow) (22.9.24)\n",
            "Requirement already satisfied: protobuf<3.20,>=3.9.2 in /usr/local/lib/python3.7/dist-packages (from tensorflow) (3.17.3)\n",
            "Requirement already satisfied: opt-einsum>=2.3.2 in /usr/local/lib/python3.7/dist-packages (from tensorflow) (3.3.0)\n",
            "Requirement already satisfied: h5py>=2.9.0 in /usr/local/lib/python3.7/dist-packages (from tensorflow) (3.1.0)\n",
            "Requirement already satisfied: google-pasta>=0.1.1 in /usr/local/lib/python3.7/dist-packages (from tensorflow) (0.2.0)\n",
            "Requirement already satisfied: termcolor>=1.1.0 in /usr/local/lib/python3.7/dist-packages (from tensorflow) (2.0.1)\n",
            "Requirement already satisfied: keras-preprocessing>=1.1.1 in /usr/local/lib/python3.7/dist-packages (from tensorflow) (1.1.2)\n",
            "Requirement already satisfied: gast>=0.2.1 in /usr/local/lib/python3.7/dist-packages (from tensorflow) (0.5.3)\n",
            "Requirement already satisfied: tensorboard<2.9,>=2.8 in /usr/local/lib/python3.7/dist-packages (from tensorflow) (2.8.0)\n",
            "Requirement already satisfied: tensorflow-io-gcs-filesystem>=0.23.1 in /usr/local/lib/python3.7/dist-packages (from tensorflow) (0.27.0)\n",
            "Requirement already satisfied: astunparse>=1.6.0 in /usr/local/lib/python3.7/dist-packages (from tensorflow) (1.6.3)\n",
            "Requirement already satisfied: wheel<1.0,>=0.23.0 in /usr/local/lib/python3.7/dist-packages (from astunparse>=1.6.0->tensorflow) (0.37.1)\n",
            "Requirement already satisfied: cached-property in /usr/local/lib/python3.7/dist-packages (from h5py>=2.9.0->tensorflow) (1.5.2)\n",
            "Requirement already satisfied: requests<3,>=2.21.0 in /usr/local/lib/python3.7/dist-packages (from tensorboard<2.9,>=2.8->tensorflow) (2.23.0)\n",
            "Requirement already satisfied: google-auth-oauthlib<0.5,>=0.4.1 in /usr/local/lib/python3.7/dist-packages (from tensorboard<2.9,>=2.8->tensorflow) (0.4.6)\n",
            "Requirement already satisfied: werkzeug>=0.11.15 in /usr/local/lib/python3.7/dist-packages (from tensorboard<2.9,>=2.8->tensorflow) (1.0.1)\n",
            "Requirement already satisfied: tensorboard-plugin-wit>=1.6.0 in /usr/local/lib/python3.7/dist-packages (from tensorboard<2.9,>=2.8->tensorflow) (1.8.1)\n",
            "Requirement already satisfied: google-auth<3,>=1.6.3 in /usr/local/lib/python3.7/dist-packages (from tensorboard<2.9,>=2.8->tensorflow) (1.35.0)\n",
            "Requirement already satisfied: tensorboard-data-server<0.7.0,>=0.6.0 in /usr/local/lib/python3.7/dist-packages (from tensorboard<2.9,>=2.8->tensorflow) (0.6.1)\n",
            "Requirement already satisfied: markdown>=2.6.8 in /usr/local/lib/python3.7/dist-packages (from tensorboard<2.9,>=2.8->tensorflow) (3.4.1)\n",
            "Requirement already satisfied: pyasn1-modules>=0.2.1 in /usr/local/lib/python3.7/dist-packages (from google-auth<3,>=1.6.3->tensorboard<2.9,>=2.8->tensorflow) (0.2.8)\n",
            "Requirement already satisfied: cachetools<5.0,>=2.0.0 in /usr/local/lib/python3.7/dist-packages (from google-auth<3,>=1.6.3->tensorboard<2.9,>=2.8->tensorflow) (4.2.4)\n",
            "Requirement already satisfied: rsa<5,>=3.1.4 in /usr/local/lib/python3.7/dist-packages (from google-auth<3,>=1.6.3->tensorboard<2.9,>=2.8->tensorflow) (4.9)\n",
            "Requirement already satisfied: requests-oauthlib>=0.7.0 in /usr/local/lib/python3.7/dist-packages (from google-auth-oauthlib<0.5,>=0.4.1->tensorboard<2.9,>=2.8->tensorflow) (1.3.1)\n",
            "Requirement already satisfied: importlib-metadata>=4.4 in /usr/local/lib/python3.7/dist-packages (from markdown>=2.6.8->tensorboard<2.9,>=2.8->tensorflow) (5.0.0)\n",
            "Requirement already satisfied: zipp>=0.5 in /usr/local/lib/python3.7/dist-packages (from importlib-metadata>=4.4->markdown>=2.6.8->tensorboard<2.9,>=2.8->tensorflow) (3.8.1)\n",
            "Requirement already satisfied: pyasn1<0.5.0,>=0.4.6 in /usr/local/lib/python3.7/dist-packages (from pyasn1-modules>=0.2.1->google-auth<3,>=1.6.3->tensorboard<2.9,>=2.8->tensorflow) (0.4.8)\n",
            "Requirement already satisfied: chardet<4,>=3.0.2 in /usr/local/lib/python3.7/dist-packages (from requests<3,>=2.21.0->tensorboard<2.9,>=2.8->tensorflow) (3.0.4)\n",
            "Requirement already satisfied: certifi>=2017.4.17 in /usr/local/lib/python3.7/dist-packages (from requests<3,>=2.21.0->tensorboard<2.9,>=2.8->tensorflow) (2022.9.24)\n",
            "Requirement already satisfied: urllib3!=1.25.0,!=1.25.1,<1.26,>=1.21.1 in /usr/local/lib/python3.7/dist-packages (from requests<3,>=2.21.0->tensorboard<2.9,>=2.8->tensorflow) (1.24.3)\n",
            "Requirement already satisfied: idna<3,>=2.5 in /usr/local/lib/python3.7/dist-packages (from requests<3,>=2.21.0->tensorboard<2.9,>=2.8->tensorflow) (2.10)\n",
            "Requirement already satisfied: oauthlib>=3.0.0 in /usr/local/lib/python3.7/dist-packages (from requests-oauthlib>=0.7.0->google-auth-oauthlib<0.5,>=0.4.1->tensorboard<2.9,>=2.8->tensorflow) (3.2.1)\n",
            "Looking in indexes: https://pypi.org/simple, https://us-python.pkg.dev/colab-wheels/public/simple/\n",
            "Requirement already satisfied: keras in /usr/local/lib/python3.7/dist-packages (2.8.0)\n"
          ]
        }
      ],
      "source": [
        "from tensorflow.keras.datasets import imdb\n",
        "(train_data, train_labels), (test_data, test_labels) = imdb.load_data(\n",
        "    num_words=10000)\n",
        "!pip install tensorflow\n",
        "!pip install keras\n"
      ]
    },
    {
      "cell_type": "markdown",
      "source": [],
      "metadata": {
        "id": "t1bD2lFiN0k9"
      }
    },
    {
      "cell_type": "code",
      "execution_count": 3,
      "metadata": {
        "colab": {
          "base_uri": "https://localhost:8080/"
        },
        "id": "LFdxhHefNbXQ",
        "outputId": "d040c486-615d-4223-bd68-c2df64e8bd82"
      },
      "outputs": [
        {
          "output_type": "execute_result",
          "data": {
            "text/plain": [
              "[1,\n",
              " 14,\n",
              " 22,\n",
              " 16,\n",
              " 43,\n",
              " 530,\n",
              " 973,\n",
              " 1622,\n",
              " 1385,\n",
              " 65,\n",
              " 458,\n",
              " 4468,\n",
              " 66,\n",
              " 3941,\n",
              " 4,\n",
              " 173,\n",
              " 36,\n",
              " 256,\n",
              " 5,\n",
              " 25,\n",
              " 100,\n",
              " 43,\n",
              " 838,\n",
              " 112,\n",
              " 50,\n",
              " 670,\n",
              " 2,\n",
              " 9,\n",
              " 35,\n",
              " 480,\n",
              " 284,\n",
              " 5,\n",
              " 150,\n",
              " 4,\n",
              " 172,\n",
              " 112,\n",
              " 167,\n",
              " 2,\n",
              " 336,\n",
              " 385,\n",
              " 39,\n",
              " 4,\n",
              " 172,\n",
              " 4536,\n",
              " 1111,\n",
              " 17,\n",
              " 546,\n",
              " 38,\n",
              " 13,\n",
              " 447,\n",
              " 4,\n",
              " 192,\n",
              " 50,\n",
              " 16,\n",
              " 6,\n",
              " 147,\n",
              " 2025,\n",
              " 19,\n",
              " 14,\n",
              " 22,\n",
              " 4,\n",
              " 1920,\n",
              " 4613,\n",
              " 469,\n",
              " 4,\n",
              " 22,\n",
              " 71,\n",
              " 87,\n",
              " 12,\n",
              " 16,\n",
              " 43,\n",
              " 530,\n",
              " 38,\n",
              " 76,\n",
              " 15,\n",
              " 13,\n",
              " 1247,\n",
              " 4,\n",
              " 22,\n",
              " 17,\n",
              " 515,\n",
              " 17,\n",
              " 12,\n",
              " 16,\n",
              " 626,\n",
              " 18,\n",
              " 2,\n",
              " 5,\n",
              " 62,\n",
              " 386,\n",
              " 12,\n",
              " 8,\n",
              " 316,\n",
              " 8,\n",
              " 106,\n",
              " 5,\n",
              " 4,\n",
              " 2223,\n",
              " 5244,\n",
              " 16,\n",
              " 480,\n",
              " 66,\n",
              " 3785,\n",
              " 33,\n",
              " 4,\n",
              " 130,\n",
              " 12,\n",
              " 16,\n",
              " 38,\n",
              " 619,\n",
              " 5,\n",
              " 25,\n",
              " 124,\n",
              " 51,\n",
              " 36,\n",
              " 135,\n",
              " 48,\n",
              " 25,\n",
              " 1415,\n",
              " 33,\n",
              " 6,\n",
              " 22,\n",
              " 12,\n",
              " 215,\n",
              " 28,\n",
              " 77,\n",
              " 52,\n",
              " 5,\n",
              " 14,\n",
              " 407,\n",
              " 16,\n",
              " 82,\n",
              " 2,\n",
              " 8,\n",
              " 4,\n",
              " 107,\n",
              " 117,\n",
              " 5952,\n",
              " 15,\n",
              " 256,\n",
              " 4,\n",
              " 2,\n",
              " 7,\n",
              " 3766,\n",
              " 5,\n",
              " 723,\n",
              " 36,\n",
              " 71,\n",
              " 43,\n",
              " 530,\n",
              " 476,\n",
              " 26,\n",
              " 400,\n",
              " 317,\n",
              " 46,\n",
              " 7,\n",
              " 4,\n",
              " 2,\n",
              " 1029,\n",
              " 13,\n",
              " 104,\n",
              " 88,\n",
              " 4,\n",
              " 381,\n",
              " 15,\n",
              " 297,\n",
              " 98,\n",
              " 32,\n",
              " 2071,\n",
              " 56,\n",
              " 26,\n",
              " 141,\n",
              " 6,\n",
              " 194,\n",
              " 7486,\n",
              " 18,\n",
              " 4,\n",
              " 226,\n",
              " 22,\n",
              " 21,\n",
              " 134,\n",
              " 476,\n",
              " 26,\n",
              " 480,\n",
              " 5,\n",
              " 144,\n",
              " 30,\n",
              " 5535,\n",
              " 18,\n",
              " 51,\n",
              " 36,\n",
              " 28,\n",
              " 224,\n",
              " 92,\n",
              " 25,\n",
              " 104,\n",
              " 4,\n",
              " 226,\n",
              " 65,\n",
              " 16,\n",
              " 38,\n",
              " 1334,\n",
              " 88,\n",
              " 12,\n",
              " 16,\n",
              " 283,\n",
              " 5,\n",
              " 16,\n",
              " 4472,\n",
              " 113,\n",
              " 103,\n",
              " 32,\n",
              " 15,\n",
              " 16,\n",
              " 5345,\n",
              " 19,\n",
              " 178,\n",
              " 32]"
            ]
          },
          "metadata": {},
          "execution_count": 3
        }
      ],
      "source": [
        "train_data[0]"
      ]
    },
    {
      "cell_type": "code",
      "execution_count": 4,
      "metadata": {
        "colab": {
          "base_uri": "https://localhost:8080/"
        },
        "id": "3ehnUplrNbXR",
        "outputId": "7a2d7392-db27-49b0-c665-eb8a6c67b8a2"
      },
      "outputs": [
        {
          "output_type": "execute_result",
          "data": {
            "text/plain": [
              "1"
            ]
          },
          "metadata": {},
          "execution_count": 4
        }
      ],
      "source": [
        "train_labels[0]"
      ]
    },
    {
      "cell_type": "code",
      "execution_count": 5,
      "metadata": {
        "colab": {
          "base_uri": "https://localhost:8080/"
        },
        "id": "kmhn8ydGNbXR",
        "outputId": "17ca82f1-2e73-4034-dad9-1228ca69d00d"
      },
      "outputs": [
        {
          "output_type": "execute_result",
          "data": {
            "text/plain": [
              "9999"
            ]
          },
          "metadata": {},
          "execution_count": 5
        }
      ],
      "source": [
        "max([max(sequence) for sequence in train_data])"
      ]
    },
    {
      "cell_type": "code",
      "execution_count": 6,
      "metadata": {
        "colab": {
          "base_uri": "https://localhost:8080/"
        },
        "id": "CDh90CF4NbXS",
        "outputId": "7b7827ac-b8b3-4afe-8da2-e07765ef1c20"
      },
      "outputs": [
        {
          "output_type": "stream",
          "name": "stdout",
          "text": [
            "Downloading data from https://storage.googleapis.com/tensorflow/tf-keras-datasets/imdb_word_index.json\n",
            "1646592/1641221 [==============================] - 0s 0us/step\n",
            "1654784/1641221 [==============================] - 0s 0us/step\n"
          ]
        }
      ],
      "source": [
        "word_index = imdb.get_word_index()\n",
        "reverse_word_index = dict(\n",
        "    [(value, key) for (key, value) in word_index.items()])\n",
        "decoded_review = \" \".join(\n",
        "    [reverse_word_index.get(i - 3, \"?\") for i in train_data[0]])"
      ]
    },
    {
      "cell_type": "code",
      "execution_count": 7,
      "metadata": {
        "id": "aFY5QC3FNbXU"
      },
      "outputs": [],
      "source": [
        "import numpy as np\n",
        "def vectorize_sequences(sequences, dimension=10000):\n",
        "    results = np.zeros((len(sequences), dimension))\n",
        "    for i, sequence in enumerate(sequences):\n",
        "        for j in sequence:\n",
        "            results[i, j] = 1.\n",
        "    return results\n",
        "x_train = vectorize_sequences(train_data)\n",
        "x_test = vectorize_sequences(test_data)"
      ]
    },
    {
      "cell_type": "code",
      "execution_count": 8,
      "metadata": {
        "colab": {
          "base_uri": "https://localhost:8080/"
        },
        "id": "ZqFR9xRZNbXV",
        "outputId": "6c176339-47b4-4702-fc01-31a5fb993aac"
      },
      "outputs": [
        {
          "output_type": "execute_result",
          "data": {
            "text/plain": [
              "array([0., 1., 1., ..., 0., 0., 0.])"
            ]
          },
          "metadata": {},
          "execution_count": 8
        }
      ],
      "source": [
        "x_train[0]"
      ]
    },
    {
      "cell_type": "code",
      "execution_count": 9,
      "metadata": {
        "id": "HpywHeBtNbXV"
      },
      "outputs": [],
      "source": [
        "y_train = np.asarray(train_labels).astype(\"float32\")\n",
        "y_test = np.asarray(test_labels).astype(\"float32\")"
      ]
    },
    {
      "cell_type": "code",
      "source": [
        "x_val = x_train[:10000]\n",
        "partial_x_train = x_train[10000:]\n",
        "y_val = y_train[:10000]\n",
        "partial_y_train = y_train[10000:]\n"
      ],
      "metadata": {
        "id": "IoKKkIgDOtwu"
      },
      "execution_count": 10,
      "outputs": []
    },
    {
      "cell_type": "code",
      "execution_count": 12,
      "metadata": {
        "id": "lKoK1mvrNbXW"
      },
      "outputs": [],
      "source": [
        "from tensorflow import keras\n",
        "from tensorflow.keras import layers\n",
        "from tensorflow.keras.layers import Dense\n",
        "\n",
        "model = keras.Sequential()\n",
        "model.add(Dense(16, activation=\"tanh\"))\n",
        "model.add(Dense(16, activation=\"tanh\"))\n",
        "model.add(Dense(1, activation=\"sigmoid\"))\n",
        "\n",
        "\n",
        "model.compile(optimizer=\"adam\",\n",
        "              loss=\"mean_squared_error\",\n",
        "              metrics=[\"accuracy\"])"
      ]
    },
    {
      "cell_type": "code",
      "execution_count": 13,
      "metadata": {
        "colab": {
          "base_uri": "https://localhost:8080/"
        },
        "id": "ltU0KH8cNbXX",
        "outputId": "0d813117-0b5f-4ee9-e7c8-aff3a3fc2923"
      },
      "outputs": [
        {
          "output_type": "stream",
          "name": "stdout",
          "text": [
            "Epoch 1/20\n",
            "30/30 [==============================] - 2s 51ms/step - loss: 0.1667 - accuracy: 0.7917 - val_loss: 0.1133 - val_accuracy: 0.8654\n",
            "Epoch 2/20\n",
            "30/30 [==============================] - 1s 36ms/step - loss: 0.0792 - accuracy: 0.9100 - val_loss: 0.0874 - val_accuracy: 0.8874\n",
            "Epoch 3/20\n",
            "30/30 [==============================] - 1s 36ms/step - loss: 0.0522 - accuracy: 0.9449 - val_loss: 0.0836 - val_accuracy: 0.8867\n",
            "Epoch 4/20\n",
            "30/30 [==============================] - 1s 38ms/step - loss: 0.0381 - accuracy: 0.9634 - val_loss: 0.0849 - val_accuracy: 0.8833\n",
            "Epoch 5/20\n",
            "30/30 [==============================] - 1s 35ms/step - loss: 0.0273 - accuracy: 0.9759 - val_loss: 0.0878 - val_accuracy: 0.8807\n",
            "Epoch 6/20\n",
            "30/30 [==============================] - 1s 35ms/step - loss: 0.0208 - accuracy: 0.9843 - val_loss: 0.0916 - val_accuracy: 0.8762\n",
            "Epoch 7/20\n",
            "30/30 [==============================] - 1s 35ms/step - loss: 0.0162 - accuracy: 0.9881 - val_loss: 0.0929 - val_accuracy: 0.8766\n",
            "Epoch 8/20\n",
            "30/30 [==============================] - 1s 36ms/step - loss: 0.0124 - accuracy: 0.9911 - val_loss: 0.0960 - val_accuracy: 0.8738\n",
            "Epoch 9/20\n",
            "30/30 [==============================] - 1s 35ms/step - loss: 0.0101 - accuracy: 0.9925 - val_loss: 0.0973 - val_accuracy: 0.8727\n",
            "Epoch 10/20\n",
            "30/30 [==============================] - 1s 35ms/step - loss: 0.0082 - accuracy: 0.9939 - val_loss: 0.0995 - val_accuracy: 0.8712\n",
            "Epoch 11/20\n",
            "30/30 [==============================] - 1s 35ms/step - loss: 0.0069 - accuracy: 0.9947 - val_loss: 0.1013 - val_accuracy: 0.8718\n",
            "Epoch 12/20\n",
            "30/30 [==============================] - 1s 35ms/step - loss: 0.0061 - accuracy: 0.9954 - val_loss: 0.1026 - val_accuracy: 0.8713\n",
            "Epoch 13/20\n",
            "30/30 [==============================] - 1s 34ms/step - loss: 0.0055 - accuracy: 0.9957 - val_loss: 0.1036 - val_accuracy: 0.8709\n",
            "Epoch 14/20\n",
            "30/30 [==============================] - 1s 34ms/step - loss: 0.0051 - accuracy: 0.9959 - val_loss: 0.1045 - val_accuracy: 0.8702\n",
            "Epoch 15/20\n",
            "30/30 [==============================] - 1s 34ms/step - loss: 0.0048 - accuracy: 0.9959 - val_loss: 0.1054 - val_accuracy: 0.8695\n",
            "Epoch 16/20\n",
            "30/30 [==============================] - 1s 34ms/step - loss: 0.0046 - accuracy: 0.9960 - val_loss: 0.1061 - val_accuracy: 0.8697\n",
            "Epoch 17/20\n",
            "30/30 [==============================] - 1s 34ms/step - loss: 0.0044 - accuracy: 0.9961 - val_loss: 0.1069 - val_accuracy: 0.8686\n",
            "Epoch 18/20\n",
            "30/30 [==============================] - 1s 35ms/step - loss: 0.0043 - accuracy: 0.9961 - val_loss: 0.1076 - val_accuracy: 0.8682\n",
            "Epoch 19/20\n",
            "30/30 [==============================] - 1s 35ms/step - loss: 0.0042 - accuracy: 0.9961 - val_loss: 0.1083 - val_accuracy: 0.8685\n",
            "Epoch 20/20\n",
            "30/30 [==============================] - 1s 35ms/step - loss: 0.0041 - accuracy: 0.9961 - val_loss: 0.1091 - val_accuracy: 0.8674\n"
          ]
        }
      ],
      "source": [
        "history = model.fit(partial_x_train,\n",
        "                    partial_y_train,\n",
        "                    epochs=20,\n",
        "                    batch_size=512,\n",
        "                    validation_data=(x_val, y_val))"
      ]
    },
    {
      "cell_type": "code",
      "source": [
        "import matplotlib.pyplot as plt\n",
        "history_dict = history.history\n",
        "loss_values = history_dict[\"loss\"]\n",
        "val_loss_values = history_dict[\"val_loss\"]\n",
        "epochs = range(1, len(loss_values) + 1)\n",
        "plt.clf()\n",
        "acc = history_dict[\"accuracy\"]\n",
        "val_acc = history_dict[\"val_accuracy\"]\n",
        "plt.plot(epochs, acc, \"bo\", label=\"Training acc\")\n",
        "plt.plot(epochs, val_acc, \"b\", label=\"Validation acc\")\n",
        "plt.title(\"Training and validation accuracy\")\n",
        "plt.xlabel(\"Epochs\")\n",
        "plt.ylabel(\"Accuracy\")\n",
        "plt.legend()\n",
        "plt.show()"
      ],
      "metadata": {
        "colab": {
          "base_uri": "https://localhost:8080/",
          "height": 295
        },
        "id": "rLcx4x4pPQFf",
        "outputId": "5fb9e179-5082-4660-d46a-059141327fe5"
      },
      "execution_count": 14,
      "outputs": [
        {
          "output_type": "display_data",
          "data": {
            "text/plain": [
              "<Figure size 432x288 with 1 Axes>"
            ],
            "image/png": "[encoded data removed]"
          },
          "metadata": {
            "needs_background": "light"
          }
        }
      ]
    },
    {
      "cell_type": "code",
      "source": [
        "from tensorflow.keras.layers import Dropout\n",
        "from tensorflow.keras import regularizers\n",
        "\n",
        "\n",
        "model = keras.Sequential()\n",
        "model.add(Dense(64, activation=\"tanh\"))\n",
        "model.add(Dropout(0.5))\n",
        "model.add(Dense(64, activation=\"tanh\"))\n",
        "model.add(Dropout(0.5))\n",
        "model.add(Dense(64, activation=\"tanh\"))\n",
        "model.add(Dense(1, activation=\"sigmoid\",activity_regularizer=regularizers.L2(0.01)))\n",
        "\n",
        "\n",
        "model.compile(optimizer=\"adam\",\n",
        "              loss=\"mean_squared_error\",\n",
        "              metrics=[\"accuracy\"])\n",
        "\n",
        "history = model.fit(partial_x_train,\n",
        "                    partial_y_train,\n",
        "                    epochs=30,\n",
        "                    batch_size=512,\n",
        "                    validation_data=(x_val, y_val))"
      ],
      "metadata": {
        "colab": {
          "base_uri": "https://localhost:8080/"
        },
        "id": "7xIO9nP6PWWh",
        "outputId": "6c4898dc-9737-4771-d6e9-7550b0839802"
      },
      "execution_count": 15,
      "outputs": [
        {
          "output_type": "stream",
          "name": "stdout",
          "text": [
            "Epoch 1/30\n",
            "30/30 [==============================] - 3s 82ms/step - loss: 0.1565 - accuracy: 0.7771 - val_loss: 0.0922 - val_accuracy: 0.8812\n",
            "Epoch 2/30\n",
            "30/30 [==============================] - 3s 111ms/step - loss: 0.0729 - accuracy: 0.9091 - val_loss: 0.0887 - val_accuracy: 0.8869\n",
            "Epoch 3/30\n",
            "30/30 [==============================] - 4s 120ms/step - loss: 0.0533 - accuracy: 0.9385 - val_loss: 0.0955 - val_accuracy: 0.8805\n",
            "Epoch 4/30\n",
            "30/30 [==============================] - 3s 105ms/step - loss: 0.0425 - accuracy: 0.9545 - val_loss: 0.0988 - val_accuracy: 0.8833\n",
            "Epoch 5/30\n",
            "30/30 [==============================] - 2s 77ms/step - loss: 0.0344 - accuracy: 0.9659 - val_loss: 0.1042 - val_accuracy: 0.8768\n",
            "Epoch 6/30\n",
            "30/30 [==============================] - 2s 55ms/step - loss: 0.0315 - accuracy: 0.9681 - val_loss: 0.1068 - val_accuracy: 0.8781\n",
            "Epoch 7/30\n",
            "30/30 [==============================] - 2s 56ms/step - loss: 0.0291 - accuracy: 0.9721 - val_loss: 0.1119 - val_accuracy: 0.8742\n",
            "Epoch 8/30\n",
            "30/30 [==============================] - 2s 55ms/step - loss: 0.0262 - accuracy: 0.9757 - val_loss: 0.1180 - val_accuracy: 0.8707\n",
            "Epoch 9/30\n",
            "30/30 [==============================] - 2s 55ms/step - loss: 0.0252 - accuracy: 0.9759 - val_loss: 0.1148 - val_accuracy: 0.8731\n",
            "Epoch 10/30\n",
            "30/30 [==============================] - 2s 55ms/step - loss: 0.0241 - accuracy: 0.9776 - val_loss: 0.1193 - val_accuracy: 0.8688\n",
            "Epoch 11/30\n",
            "30/30 [==============================] - 2s 56ms/step - loss: 0.0221 - accuracy: 0.9797 - val_loss: 0.1207 - val_accuracy: 0.8687\n",
            "Epoch 12/30\n",
            "30/30 [==============================] - 2s 79ms/step - loss: 0.0203 - accuracy: 0.9821 - val_loss: 0.1208 - val_accuracy: 0.8702\n",
            "Epoch 13/30\n",
            "30/30 [==============================] - 2s 77ms/step - loss: 0.0195 - accuracy: 0.9832 - val_loss: 0.1255 - val_accuracy: 0.8651\n",
            "Epoch 14/30\n",
            "30/30 [==============================] - 2s 56ms/step - loss: 0.0195 - accuracy: 0.9833 - val_loss: 0.1256 - val_accuracy: 0.8658\n",
            "Epoch 15/30\n",
            "30/30 [==============================] - 2s 56ms/step - loss: 0.0193 - accuracy: 0.9835 - val_loss: 0.1238 - val_accuracy: 0.8671\n",
            "Epoch 16/30\n",
            "30/30 [==============================] - 2s 56ms/step - loss: 0.0177 - accuracy: 0.9859 - val_loss: 0.1257 - val_accuracy: 0.8668\n",
            "Epoch 17/30\n",
            "30/30 [==============================] - 2s 55ms/step - loss: 0.0184 - accuracy: 0.9850 - val_loss: 0.1277 - val_accuracy: 0.8649\n",
            "Epoch 18/30\n",
            "30/30 [==============================] - 2s 72ms/step - loss: 0.0198 - accuracy: 0.9821 - val_loss: 0.1263 - val_accuracy: 0.8673\n",
            "Epoch 19/30\n",
            "30/30 [==============================] - 2s 79ms/step - loss: 0.0181 - accuracy: 0.9850 - val_loss: 0.1256 - val_accuracy: 0.8681\n",
            "Epoch 20/30\n",
            "30/30 [==============================] - 2s 55ms/step - loss: 0.0171 - accuracy: 0.9866 - val_loss: 0.1270 - val_accuracy: 0.8660\n",
            "Epoch 21/30\n",
            "30/30 [==============================] - 2s 56ms/step - loss: 0.0166 - accuracy: 0.9873 - val_loss: 0.1300 - val_accuracy: 0.8628\n",
            "Epoch 22/30\n",
            "30/30 [==============================] - 2s 55ms/step - loss: 0.0165 - accuracy: 0.9876 - val_loss: 0.1304 - val_accuracy: 0.8641\n",
            "Epoch 23/30\n",
            "30/30 [==============================] - 2s 68ms/step - loss: 0.0170 - accuracy: 0.9865 - val_loss: 0.1295 - val_accuracy: 0.8654\n",
            "Epoch 24/30\n",
            "30/30 [==============================] - 2s 67ms/step - loss: 0.0164 - accuracy: 0.9876 - val_loss: 0.1291 - val_accuracy: 0.8666\n",
            "Epoch 25/30\n",
            "30/30 [==============================] - 2s 55ms/step - loss: 0.0168 - accuracy: 0.9865 - val_loss: 0.1290 - val_accuracy: 0.8659\n",
            "Epoch 26/30\n",
            "30/30 [==============================] - 2s 56ms/step - loss: 0.0166 - accuracy: 0.9869 - val_loss: 0.1309 - val_accuracy: 0.8640\n",
            "Epoch 27/30\n",
            "30/30 [==============================] - 2s 57ms/step - loss: 0.0169 - accuracy: 0.9866 - val_loss: 0.1311 - val_accuracy: 0.8639\n",
            "Epoch 28/30\n",
            "30/30 [==============================] - 2s 55ms/step - loss: 0.0164 - accuracy: 0.9869 - val_loss: 0.1310 - val_accuracy: 0.8639\n",
            "Epoch 29/30\n",
            "30/30 [==============================] - 2s 56ms/step - loss: 0.0159 - accuracy: 0.9873 - val_loss: 0.1310 - val_accuracy: 0.8642\n",
            "Epoch 30/30\n",
            "30/30 [==============================] - 2s 56ms/step - loss: 0.0162 - accuracy: 0.9870 - val_loss: 0.1294 - val_accuracy: 0.8654\n"
          ]
        }
      ]
    },
    {
      "cell_type": "code",
      "execution_count": 16,
      "metadata": {
        "colab": {
          "base_uri": "https://localhost:8080/"
        },
        "id": "4TNN1UNRNbXZ",
        "outputId": "7df2e7c9-a9c6-4c7b-d664-5abd034abd82"
      },
      "outputs": [
        {
          "output_type": "execute_result",
          "data": {
            "text/plain": [
              "dict_keys(['loss', 'accuracy', 'val_loss', 'val_accuracy'])"
            ]
          },
          "metadata": {},
          "execution_count": 16
        }
      ],
      "source": [
        "history_dict = history.history\n",
        "history_dict.keys()"
      ]
    },
    {
      "cell_type": "code",
      "execution_count": 17,
      "metadata": {
        "colab": {
          "base_uri": "https://localhost:8080/",
          "height": 295
        },
        "id": "E9ZFqjBkNbXZ",
        "outputId": "f52f0455-440d-44f6-f222-9261c4686bdf"
      },
      "outputs": [
        {
          "output_type": "display_data",
          "data": {
            "text/plain": [
              "<Figure size 432x288 with 1 Axes>"
            ],
            "image/png": "[encoded data removed]"
          },
          "metadata": {
            "needs_background": "light"
          }
        }
      ],
      "source": [
        "import matplotlib.pyplot as plt\n",
        "history_dict = history.history\n",
        "loss_values = history_dict[\"loss\"]\n",
        "val_loss_values = history_dict[\"val_loss\"]\n",
        "epochs = range(1, len(loss_values) + 1)\n",
        "plt.plot(epochs, loss_values, \"bo\", label=\"Training loss\")\n",
        "plt.plot(epochs, val_loss_values, \"b\", label=\"Validation loss\")\n",
        "plt.title(\"Training and validation loss\")\n",
        "plt.xlabel(\"Epochs\")\n",
        "plt.ylabel(\"Loss\")\n",
        "plt.legend()\n",
        "plt.show()"
      ]
    },
    {
      "cell_type": "code",
      "source": [
        "from tensorflow.keras.layers import Dropout\n",
        "from tensorflow.keras import regularizers\n",
        "\n",
        "\n",
        "model = keras.Sequential()\n",
        "model.add(Dense(64, activation=\"tanh\"))\n",
        "model.add(Dropout(0.5))\n",
        "model.add(Dense(64, activation=\"tanh\"))\n",
        "model.add(Dense(64, activation=\"tanh\"))\n",
        "model.add(Dense(64, activation=\"tanh\",activity_regularizer=regularizers.L2(0.01)))\n",
        "model.add(Dropout(0.5))\n",
        "model.add(Dense(64, activation=\"tanh\"))\n",
        "model.add(Dense(64, activation=\"tanh\"))\n",
        "model.add(Dense(1, activation=\"sigmoid\"))\n",
        "\n",
        "\n",
        "model.compile(optimizer=\"adam\",\n",
        "              loss=\"mean_squared_error\",\n",
        "              metrics=[\"accuracy\"])"
      ],
      "metadata": {
        "id": "c1BtlrDKP25u"
      },
      "execution_count": 19,
      "outputs": []
    },
    {
      "cell_type": "code",
      "source": [
        "history = model.fit(partial_x_train,\n",
        "                    partial_y_train,\n",
        "                    epochs=30,\n",
        "                    batch_size=512,\n",
        "                    validation_data=(x_val, y_val))"
      ],
      "metadata": {
        "colab": {
          "base_uri": "https://localhost:8080/"
        },
        "id": "JNwc1V2fQCCM",
        "outputId": "96918760-a0cc-41d9-d721-4111d8f9d7e4"
      },
      "execution_count": 20,
      "outputs": [
        {
          "output_type": "stream",
          "name": "stdout",
          "text": [
            "Epoch 1/30\n",
            "30/30 [==============================] - 3s 71ms/step - loss: 0.1697 - accuracy: 0.7945 - val_loss: 0.1040 - val_accuracy: 0.8811\n",
            "Epoch 2/30\n",
            "30/30 [==============================] - 2s 57ms/step - loss: 0.0859 - accuracy: 0.9135 - val_loss: 0.0992 - val_accuracy: 0.8785\n",
            "Epoch 3/30\n",
            "30/30 [==============================] - 2s 57ms/step - loss: 0.0630 - accuracy: 0.9360 - val_loss: 0.0982 - val_accuracy: 0.8780\n",
            "Epoch 4/30\n",
            "30/30 [==============================] - 2s 58ms/step - loss: 0.0499 - accuracy: 0.9507 - val_loss: 0.1036 - val_accuracy: 0.8774\n",
            "Epoch 5/30\n",
            "30/30 [==============================] - 2s 57ms/step - loss: 0.0423 - accuracy: 0.9589 - val_loss: 0.1062 - val_accuracy: 0.8727\n",
            "Epoch 6/30\n",
            "30/30 [==============================] - 2s 58ms/step - loss: 0.0355 - accuracy: 0.9650 - val_loss: 0.1064 - val_accuracy: 0.8743\n",
            "Epoch 7/30\n",
            "30/30 [==============================] - 2s 57ms/step - loss: 0.0335 - accuracy: 0.9667 - val_loss: 0.1079 - val_accuracy: 0.8694\n",
            "Epoch 8/30\n",
            "30/30 [==============================] - 2s 56ms/step - loss: 0.0282 - accuracy: 0.9721 - val_loss: 0.1145 - val_accuracy: 0.8662\n",
            "Epoch 9/30\n",
            "30/30 [==============================] - 2s 57ms/step - loss: 0.0264 - accuracy: 0.9737 - val_loss: 0.1177 - val_accuracy: 0.8681\n",
            "Epoch 10/30\n",
            "30/30 [==============================] - 2s 57ms/step - loss: 0.0233 - accuracy: 0.9775 - val_loss: 0.1176 - val_accuracy: 0.8678\n",
            "Epoch 11/30\n",
            "30/30 [==============================] - 2s 57ms/step - loss: 0.0213 - accuracy: 0.9795 - val_loss: 0.1187 - val_accuracy: 0.8660\n",
            "Epoch 12/30\n",
            "30/30 [==============================] - 2s 58ms/step - loss: 0.0204 - accuracy: 0.9809 - val_loss: 0.1223 - val_accuracy: 0.8644\n",
            "Epoch 13/30\n",
            "30/30 [==============================] - 2s 58ms/step - loss: 0.0203 - accuracy: 0.9807 - val_loss: 0.1294 - val_accuracy: 0.8596\n",
            "Epoch 14/30\n",
            "30/30 [==============================] - 2s 57ms/step - loss: 0.0205 - accuracy: 0.9795 - val_loss: 0.1242 - val_accuracy: 0.8636\n",
            "Epoch 15/30\n",
            "30/30 [==============================] - 2s 58ms/step - loss: 0.0181 - accuracy: 0.9827 - val_loss: 0.1280 - val_accuracy: 0.8610\n",
            "Epoch 16/30\n",
            "30/30 [==============================] - 2s 57ms/step - loss: 0.0187 - accuracy: 0.9817 - val_loss: 0.1245 - val_accuracy: 0.8657\n",
            "Epoch 17/30\n",
            "30/30 [==============================] - 2s 58ms/step - loss: 0.0189 - accuracy: 0.9818 - val_loss: 0.1237 - val_accuracy: 0.8656\n",
            "Epoch 18/30\n",
            "30/30 [==============================] - 2s 58ms/step - loss: 0.0173 - accuracy: 0.9829 - val_loss: 0.1246 - val_accuracy: 0.8651\n",
            "Epoch 19/30\n",
            "30/30 [==============================] - 2s 58ms/step - loss: 0.0173 - accuracy: 0.9831 - val_loss: 0.1240 - val_accuracy: 0.8638\n",
            "Epoch 20/30\n",
            "30/30 [==============================] - 2s 58ms/step - loss: 0.0155 - accuracy: 0.9849 - val_loss: 0.1281 - val_accuracy: 0.8626\n",
            "Epoch 21/30\n",
            "30/30 [==============================] - 2s 57ms/step - loss: 0.0170 - accuracy: 0.9838 - val_loss: 0.1277 - val_accuracy: 0.8605\n",
            "Epoch 22/30\n",
            "30/30 [==============================] - 2s 58ms/step - loss: 0.0151 - accuracy: 0.9858 - val_loss: 0.1288 - val_accuracy: 0.8614\n",
            "Epoch 23/30\n",
            "30/30 [==============================] - 2s 57ms/step - loss: 0.0153 - accuracy: 0.9856 - val_loss: 0.1293 - val_accuracy: 0.8618\n",
            "Epoch 24/30\n",
            "30/30 [==============================] - 2s 58ms/step - loss: 0.0141 - accuracy: 0.9863 - val_loss: 0.1281 - val_accuracy: 0.8620\n",
            "Epoch 25/30\n",
            "30/30 [==============================] - 2s 58ms/step - loss: 0.0160 - accuracy: 0.9839 - val_loss: 0.1403 - val_accuracy: 0.8499\n",
            "Epoch 26/30\n",
            "30/30 [==============================] - 2s 59ms/step - loss: 0.0157 - accuracy: 0.9844 - val_loss: 0.1324 - val_accuracy: 0.8613\n",
            "Epoch 27/30\n",
            "30/30 [==============================] - 2s 57ms/step - loss: 0.0144 - accuracy: 0.9866 - val_loss: 0.1301 - val_accuracy: 0.8611\n",
            "Epoch 28/30\n",
            "30/30 [==============================] - 2s 57ms/step - loss: 0.0145 - accuracy: 0.9859 - val_loss: 0.1312 - val_accuracy: 0.8613\n",
            "Epoch 29/30\n",
            "30/30 [==============================] - 2s 59ms/step - loss: 0.0138 - accuracy: 0.9863 - val_loss: 0.1324 - val_accuracy: 0.8613\n",
            "Epoch 30/30\n",
            "30/30 [==============================] - 2s 58ms/step - loss: 0.0143 - accuracy: 0.9862 - val_loss: 0.1304 - val_accuracy: 0.8616\n"
          ]
        }
      ]
    },
    {
      "cell_type": "code",
      "source": [
        "plt.clf()\n",
        "acc = history_dict[\"accuracy\"]\n",
        "val_acc = history_dict[\"val_accuracy\"]\n",
        "plt.plot(epochs, acc, \"bo\", label=\"Training acc\")\n",
        "plt.plot(epochs, val_acc, \"b\", label=\"Validation acc\")\n",
        "plt.title(\"Training and validation accuracy\")\n",
        "plt.xlabel(\"Epochs\")\n",
        "plt.ylabel(\"Accuracy\")\n",
        "plt.legend()\n",
        "plt.show()"
      ],
      "metadata": {
        "colab": {
          "base_uri": "https://localhost:8080/",
          "height": 295
        },
        "id": "Sz_eiKg-QQ5t",
        "outputId": "1aa8e51a-c3c1-40d3-a01a-6ff0d8a691b3"
      },
      "execution_count": 21,
      "outputs": [
        {
          "output_type": "display_data",
          "data": {
            "text/plain": [
              "<Figure size 432x288 with 1 Axes>"
            ],
            "image/png": "[encoded data removed]"
          },
          "metadata": {
            "needs_background": "light"
          }
        }
      ]
    },
    {
      "cell_type": "code",
      "execution_count": 22,
      "metadata": {
        "colab": {
          "base_uri": "https://localhost:8080/"
        },
        "id": "6YDPDnYMNbXb",
        "outputId": "2a9743c1-38cc-4cdc-f1c7-d9d875dde9c6"
      },
      "outputs": [
        {
          "output_type": "stream",
          "name": "stdout",
          "text": [
            "Epoch 1/4\n",
            "49/49 [==============================] - 3s 42ms/step - loss: 0.4477 - accuracy: 0.8291\n",
            "Epoch 2/4\n",
            "49/49 [==============================] - 2s 35ms/step - loss: 0.2603 - accuracy: 0.9080\n",
            "Epoch 3/4\n",
            "49/49 [==============================] - 2s 36ms/step - loss: 0.1974 - accuracy: 0.9306\n",
            "Epoch 4/4\n",
            "49/49 [==============================] - 2s 34ms/step - loss: 0.1681 - accuracy: 0.9409\n",
            "782/782 [==============================] - 2s 2ms/step - loss: 0.3165 - accuracy: 0.8739\n"
          ]
        }
      ],
      "source": [
        "model = keras.Sequential([\n",
        "    layers.Dense(16, activation=\"relu\"),\n",
        "    layers.Dense(16, activation=\"relu\"),\n",
        "    layers.Dense(1, activation=\"sigmoid\")\n",
        "])\n",
        "model.compile(optimizer=\"rmsprop\",\n",
        "              loss=\"binary_crossentropy\",\n",
        "              metrics=[\"accuracy\"])\n",
        "model.fit(x_train, y_train, epochs=4, batch_size=512)\n",
        "results = model.evaluate(x_test, y_test)"
      ]
    },
    {
      "cell_type": "code",
      "execution_count": 23,
      "metadata": {
        "colab": {
          "base_uri": "https://localhost:8080/"
        },
        "id": "_RX_t6DLNbXb",
        "outputId": "24acf195-e651-49e4-b2ad-ada0da7557a2"
      },
      "outputs": [
        {
          "output_type": "execute_result",
          "data": {
            "text/plain": [
              "[0.3165355920791626, 0.8739200234413147]"
            ]
          },
          "metadata": {},
          "execution_count": 23
        }
      ],
      "source": [
        "results"
      ]
    },
    {
      "cell_type": "code",
      "execution_count": 24,
      "metadata": {
        "colab": {
          "base_uri": "https://localhost:8080/"
        },
        "id": "um3ES1nvNbXc",
        "outputId": "50bd8e38-f46f-4893-d614-9b665a96309a"
      },
      "outputs": [
        {
          "output_type": "execute_result",
          "data": {
            "text/plain": [
              "array([[0.14385211],\n",
              "       [0.9993652 ],\n",
              "       [0.63045466],\n",
              "       ...,\n",
              "       [0.08919382],\n",
              "       [0.04717538],\n",
              "       [0.5642899 ]], dtype=float32)"
            ]
          },
          "metadata": {},
          "execution_count": 24
        }
      ],
      "source": [
        "model.predict(x_test)"
      ]
    },
    {
      "cell_type": "markdown",
      "source": [
        "##Summary:\n",
        "\n",
        "To test the performance, I used a 2, 3, and 6-layered neural network with 16, 64, and 64 hidden neurons.\n",
        "One significant finding I made was that, once it passes the threshold, it will train and perform essentially identically regardless of how many layers are stacked up.\n",
        "Keras is a model. Sequential() It has the same organizational structure as input layer, hidden layers, and output layer.\n",
        "The initialization of the Sequential model, where we can stack layers, is done in the line above. model. Dense (64, Tanh activation)\n",
        "The above line indicates that we are using the tanh activation function to add a new hidden layer with 64 dense units.\n",
        "When I refer to 64 hidden units, we can presume that I am referring to 64 neurons that are being formed in the layer to learn the vector-based input.\n",
        "The term \"transfer function\" also refers to the activation function. If the output range of the function is constrained, just sigmoid-squash the value to 1 that is above it. As non-linear functions, they. model.add(Dropout(0.5))\n",
        "When we encounter an overfitting circumstance, the significance of Dropout is helpful.\n",
        "Hey, could you kindly drop off a few of my neurons at random, as it results in overfitting? When I say 0.5, it means that 50% of my neurons are no longer functioning.\n",
        "I've tried using L1 and L2 regularizes, but it hasn't had much of an impact; instead, performance has suffered.\n",
        "My opinion is that the model is saturated, and the best validation accuracy we can obtain is between 86 and 87 percent.\n",
        "To examine the performance metrics on the loss, binary crossentrophy was replaced with mean square error.\n",
        "As a result, validation loss has done well. When using binary crossentrophy, the validation loss starts out at 0.5; however, when using mse, it drops to 0.1.\n",
        "The vanishing gradient problem makes Relu the best function among sigmoid and tanh functions. Tanh performs similarly to Tanh in this situation.\n",
        "\n",
        "##Training and Validation accuracies are listed below:\n",
        "\n",
        "Traing and validation accuracies for 2 dense layers ,16 hidden units is 99.61 and 86.74 respectively\n",
        "\n",
        "\n",
        "Traing and validation accuracies for 3 dense layers, 64 hidden units is 98.70 and 86.54 respectively\n",
        "\n",
        "\n",
        "Traing and validation accuracies for 6 dense layers,  64 hidden units is 98.62 and 86.16 respectively\n",
        "\n"
      ],
      "metadata": {
        "id": "lBjsQbuQQtmU"
      }
    }
  ],
  "metadata": {
    "colab": {
      "collapsed_sections": [],
      "name": "chapter04_getting-started-with-neural-networks.i",
      "provenance": [],
      "toc_visible": true
    },
    "kernelspec": {
      "display_name": "Python 3",
      "language": "python",
      "name": "python3"
    },
    "language_info": {
      "codemirror_mode": {
        "name": "ipython",
        "version": 3
      },
      "file_extension": ".py",
      "mimetype": "text/x-python",
      "name": "python",
      "nbconvert_exporter": "python",
      "pygments_lexer": "ipython3",
      "version": "3.7.0"
    }
  },
  "nbformat": 4,
  "nbformat_minor": 0
}